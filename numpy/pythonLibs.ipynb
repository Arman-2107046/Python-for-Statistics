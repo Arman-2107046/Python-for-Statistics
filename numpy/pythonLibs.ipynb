{
 "cells": [
  {
   "cell_type": "code",
   "execution_count": 1,
   "id": "c7e99f9a",
   "metadata": {},
   "outputs": [],
   "source": [
    "import numpy as np\n",
    "import pandas as pd"
   ]
  },
  {
   "cell_type": "code",
   "execution_count": 20,
   "id": "7fa49c09",
   "metadata": {},
   "outputs": [
    {
     "name": "stdout",
     "output_type": "stream",
     "text": [
      "3.5\n"
     ]
    }
   ],
   "source": [
    "a=np.array([1,2,3,4,5,6])\n",
    "print(np.mean(a))"
   ]
  },
  {
   "cell_type": "code",
   "execution_count": 22,
   "id": "455a2fba",
   "metadata": {},
   "outputs": [
    {
     "name": "stdout",
     "output_type": "stream",
     "text": [
      "<class 'numpy.ndarray'>\n",
      "(3,)\n",
      "(2, 2)\n"
     ]
    }
   ],
   "source": [
    "a=np.array([1,2,3])\n",
    "print(type(a))\n",
    "\n",
    "print(a.shape)\n",
    "\n",
    "b=np.array([[1,2],[3,4]])\n",
    "print(b.shape)\n"
   ]
  },
  {
   "cell_type": "code",
   "execution_count": 30,
   "id": "12b5c79c",
   "metadata": {},
   "outputs": [
    {
     "name": "stdout",
     "output_type": "stream",
     "text": [
      "e-- [[0. 0. 0.]\n",
      " [0. 0. 0.]]\n",
      "e-- [[1. 1.]\n",
      " [1. 1.]\n",
      " [1. 1.]\n",
      " [1. 1.]]\n",
      "e-- [[9 9]\n",
      " [9 9]]\n",
      "e-- [[0.37083616 0.90439099 0.14916648]\n",
      " [0.77409017 0.66287286 0.71307887]\n",
      " [0.6106821  0.68307205 0.83810691]]\n",
      "e-- [[4.4e-323 4.4e-323]\n",
      " [4.4e-323 4.4e-323]]\n"
     ]
    }
   ],
   "source": [
    "d=np.zeros((2,3))\n",
    "print('e--',d)\n",
    "\n",
    "e=np.ones((4,2))\n",
    "print('e--',e)\n",
    "\n",
    "f=np.full((2,2),9)\n",
    "print('e--',f)\n",
    "\n",
    "g=np.random.random((3,3))\n",
    "print('e--',g)\n",
    "\n",
    "h=np.empty((2,2))\n",
    "print('e--',h)"
   ]
  },
  {
   "cell_type": "code",
   "execution_count": 2,
   "id": "6f22a7e1",
   "metadata": {},
   "outputs": [
    {
     "name": "stdout",
     "output_type": "stream",
     "text": [
      "h-- [[ 1  2  3  4]\n",
      " [ 5  6  7  8]\n",
      " [ 9 10 11 12]]\n",
      "i-- [[2 3]\n",
      " [6 7]]\n",
      "[[99.  0.  0.]\n",
      " [ 0.  0.  0.]\n",
      " [ 0.  0.  0.]]\n",
      "[[0. 0.]\n",
      " [0. 0.]]\n",
      "float64\n",
      "int64\n"
     ]
    }
   ],
   "source": [
    "h=np.array([[1,2,3,4],[5,6,7,8],[9,10,11,12]])\n",
    "print('h--',h)\n",
    "\n",
    "i=h[0:2,1:3]\n",
    "print(\"i--\",i)\n",
    "\n",
    "\n",
    "h=np.zeros((3,3))\n",
    "i=h[0:2,0:2].copy()\n",
    "h[0,0]=99\n",
    "print(h)\n",
    "print(i)\n",
    "\n",
    "print(h.dtype)\n",
    "\n",
    "# force data type \n",
    "l=np.array([1.0,2.0],dtype=np.int64)\n",
    "print(l.dtype)\n"
   ]
  },
  {
   "cell_type": "code",
   "execution_count": 7,
   "id": "d675038a",
   "metadata": {},
   "outputs": [
    {
     "name": "stdout",
     "output_type": "stream",
     "text": [
      "[[ 6.  8.]\n",
      " [10. 12.]]\n",
      "[[ 6.  8.]\n",
      " [10. 12.]]\n",
      "[[-4. -4.]\n",
      " [-4. -4.]]\n",
      "[[-4. -4.]\n",
      " [-4. -4.]]\n",
      "[[ 5. 12.]\n",
      " [21. 32.]]\n",
      "[[ 5. 12.]\n",
      " [21. 32.]]\n",
      "[[0.2        0.33333333]\n",
      " [0.42857143 0.5       ]]\n",
      "[[0.2        0.33333333]\n",
      " [0.42857143 0.5       ]]\n"
     ]
    }
   ],
   "source": [
    "# array arithmatics \n",
    "x=np.array([[1,2],[3,4]], dtype=np.float64)\n",
    "y=np.array([[5,6],[7,8]], dtype=np.float64)\n",
    "\n",
    "# element wise sum\n",
    "print(x+y) \n",
    "print(np.add(x,y))\n",
    "\n",
    "# element wise difference \n",
    "print(x-y)\n",
    "print(np.subtract(x,y))\n",
    "\n",
    "#element wise product\n",
    "print(x*y)\n",
    "print(np.multiply(x,y))\n",
    "\n",
    "#element wise division\n",
    "print(x/y)\n",
    "print(np.divide(x,y))\n"
   ]
  },
  {
   "cell_type": "code",
   "execution_count": 12,
   "id": "c02bae4b",
   "metadata": {},
   "outputs": [
    {
     "name": "stdout",
     "output_type": "stream",
     "text": [
      "[[1 2]\n",
      " [3 4]]\n",
      "10\n",
      "[4 6]\n",
      "[3 7]\n",
      "2.5\n",
      "[2. 3.]\n",
      "[1.5 3.5]\n"
     ]
    }
   ],
   "source": [
    "# operations on a single array\n",
    "x=np.array([[1,2],[3,4]])\n",
    "print(x)\n",
    "\n",
    "print(np.sum(x))\n",
    "\n",
    "#col sum\n",
    "print(np.sum(x,axis=0))\n",
    "# row sum \n",
    "print(np.sum(x,axis=1))\n",
    "\n",
    "# mean of all \n",
    "print(np.mean(x))\n",
    "# col mean \n",
    "print(np.mean(x,axis=0))\n",
    "# row mean \n",
    "print(np.mean(x,axis=1))\n"
   ]
  },
  {
   "cell_type": "code",
   "execution_count": null,
   "id": "bf9e6ae8",
   "metadata": {},
   "outputs": [],
   "source": []
  },
  {
   "cell_type": "code",
   "execution_count": null,
   "id": "7eb238ba",
   "metadata": {},
   "outputs": [],
   "source": []
  },
  {
   "cell_type": "code",
   "execution_count": null,
   "id": "810f0bcc",
   "metadata": {},
   "outputs": [],
   "source": []
  },
  {
   "cell_type": "code",
   "execution_count": null,
   "id": "5ae077c1",
   "metadata": {},
   "outputs": [],
   "source": []
  },
  {
   "cell_type": "code",
   "execution_count": null,
   "id": "9e931e0f",
   "metadata": {},
   "outputs": [],
   "source": []
  },
  {
   "cell_type": "code",
   "execution_count": null,
   "id": "4a71b153",
   "metadata": {},
   "outputs": [],
   "source": []
  },
  {
   "cell_type": "code",
   "execution_count": null,
   "id": "c1a498c9",
   "metadata": {},
   "outputs": [],
   "source": []
  },
  {
   "cell_type": "code",
   "execution_count": null,
   "id": "cf50ac97",
   "metadata": {},
   "outputs": [],
   "source": []
  }
 ],
 "metadata": {
  "kernelspec": {
   "display_name": "Python 3",
   "language": "python",
   "name": "python3"
  },
  "language_info": {
   "codemirror_mode": {
    "name": "ipython",
    "version": 3
   },
   "file_extension": ".py",
   "mimetype": "text/x-python",
   "name": "python",
   "nbconvert_exporter": "python",
   "pygments_lexer": "ipython3",
   "version": "3.13.1"
  }
 },
 "nbformat": 4,
 "nbformat_minor": 5
}
