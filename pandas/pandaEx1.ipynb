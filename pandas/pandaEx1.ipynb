{
 "cells": [
  {
   "cell_type": "code",
   "execution_count": 8,
   "id": "dbf920eb",
   "metadata": {},
   "outputs": [],
   "source": [
    "import pandas as pd\n",
    "import numpy as np"
   ]
  },
  {
   "cell_type": "code",
   "execution_count": 31,
   "id": "1b5dde15",
   "metadata": {},
   "outputs": [
    {
     "name": "stdout",
     "output_type": "stream",
     "text": [
      "<class 'pandas.core.frame.DataFrame'>\n"
     ]
    },
    {
     "data": {
      "text/plain": [
       "Gender  GenderGroup\n",
       "F       1              12\n",
       "M       2              13\n",
       "dtype: int64"
      ]
     },
     "execution_count": 31,
     "metadata": {},
     "output_type": "execute_result"
    }
   ],
   "source": [
    "fname='Cartwheeldata.csv'\n",
    "\n",
    "df=pd.read_csv(fname)\n",
    "\n",
    "print(type(df))\n",
    "\n",
    "# df.head()\n",
    "# df.head(10)\n",
    "\n",
    "# df.columns\n",
    "\n",
    "# df.dtypes\n",
    "\n",
    "# return all ovservations of CWDistense\n",
    "# df.loc[:,[\"CWDistance\",\"Height\",\"Wingspan\"]]\n",
    "# df.loc[10:15,[\"CWDistance\",\"Height\",\"Wingspan\"]]\n",
    "# df.loc[10:15]\n",
    "\n",
    "# df.iloc[:4]\n",
    "# df.iloc[1:5,2:4]\n",
    "\n",
    "# df[\"Gender\"].unique()\n",
    "# df[\"GenderGroup\"].unique()\n",
    "\n",
    "# redundant info \n",
    "\n",
    "# df[[\"Gender\",\"GenderGroup\"]]\n",
    "\n",
    "pd.crosstab(df[\"Gender\"], df[\"GenderGroup\"])\n",
    "df.groupby(['Gender','GenderGroup']).size()"
   ]
  }
 ],
 "metadata": {
  "kernelspec": {
   "display_name": "Python 3",
   "language": "python",
   "name": "python3"
  },
  "language_info": {
   "codemirror_mode": {
    "name": "ipython",
    "version": 3
   },
   "file_extension": ".py",
   "mimetype": "text/x-python",
   "name": "python",
   "nbconvert_exporter": "python",
   "pygments_lexer": "ipython3",
   "version": "3.13.1"
  }
 },
 "nbformat": 4,
 "nbformat_minor": 5
}
